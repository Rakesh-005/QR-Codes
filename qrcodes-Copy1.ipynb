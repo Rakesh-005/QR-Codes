{
 "cells": [
  {
   "cell_type": "code",
   "execution_count": null,
   "id": "30e974a3",
   "metadata": {},
   "outputs": [],
   "source": [
    "import qrcode\n",
    "from PIL import Image\n",
    "from math import ceil\n",
    "\n",
    "def generate_qr(data):\n",
    "    qr = qrcode.QRCode(version=1, error_correction=qrcode.constants.ERROR_CORRECT_L, box_size=10, border=4)\n",
    "    qr.add_data(data)\n",
    "    qr.make(fit=True)\n",
    "    qr_img = qr.make_image(fill_color=\"black\", back_color=\"white\")\n",
    "    return qr_img\n",
    "\n",
    "def generate_and_align_qr_codes(qr_data_list):\n",
    "    background_img = Image.open(\"C:\\\\Users\\\\rakes\\\\OneDrive\\\\Desktop\\\\12 x 18 Sheet.jpg\")\n",
    "    positions = [(1295, 460), (2796, 460), (1295, 1513), (2796, 1513), (1295, 2560), (2796, 2560), (1295, 3605), (2796, 3605), (1295, 4660), (2796, 4660)]\n",
    "\n",
    "    num_images = ceil(len(qr_data_list) / 10)  # Calculate the number of images needed\n",
    "\n",
    "    for i in range(num_images):\n",
    "        start_index = i * 10\n",
    "        end_index = min((i + 1) * 10, len(qr_data_list))\n",
    "        qr_data_page = qr_data_list[start_index:end_index]\n",
    "\n",
    "        for data, position in zip(qr_data_page, positions):\n",
    "            qr_img = generate_qr(data)\n",
    "            qr_img = qr_img.resize((450, 450))\n",
    "            background_img.paste(qr_img, position)\n",
    "\n",
    "        background_img.save(f\"C:\\\\Users\\\\rakes\\\\OneDrive\\\\Desktop\\\\demo qr\\\\result_page{i + 1}.jpg\")\n",
    "\n",
    "# Example usage with a list of QR data\n",
    "qr_data_list = [\"Data\" + str(i) for i in range(1, 11)]  # Replace ... with remaining elements\n",
    "generate_and_align_qr_codes(qr_data_list)\n"
   ]
  }
 ],
 "metadata": {
  "kernelspec": {
   "display_name": "Python 3 (ipykernel)",
   "language": "python",
   "name": "python3"
  },
  "language_info": {
   "codemirror_mode": {
    "name": "ipython",
    "version": 3
   },
   "file_extension": ".py",
   "mimetype": "text/x-python",
   "name": "python",
   "nbconvert_exporter": "python",
   "pygments_lexer": "ipython3",
   "version": "3.11.5"
  }
 },
 "nbformat": 4,
 "nbformat_minor": 5
}
